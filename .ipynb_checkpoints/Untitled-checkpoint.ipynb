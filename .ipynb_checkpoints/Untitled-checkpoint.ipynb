{
 "cells": [
  {
   "cell_type": "markdown",
   "id": "a1aa7b88",
   "metadata": {},
   "source": [
    "# **Exploração e análise de dados de crédito com SQL**\n",
    "\n",
    "\n",
    "\n",
    "## Sobre os dados:\n",
    "\n",
    "Os dados representam informações de clientes de um banco e contam com as seguintes colunas:\n",
    "\n",
    "* idade = idade do cliente\n",
    "* sexo = sexo do cliente (F ou M)\n",
    "* dependentes = número de dependentes do cliente\n",
    "* escolaridade = nível de escolaridade do clientes\n",
    "* salario_anual = faixa salarial do cliente\n",
    "* tipo_cartao = tipo de cartao do cliente\n",
    "* qtd_produtos = quantidade de produtos comprados nos últimos 12 meses\n",
    "* iteracoes_12m = quantidade de iterações/transacoes nos ultimos 12 meses\n",
    "* meses_inativo_12m = quantidade de meses que o cliente ficou inativo\n",
    "* limite_credito = limite de credito do cliente\n",
    "* valor_transacoes_12m = valor das transações dos ultimos 12 meses\n",
    "* qtd_transacoes_12m = quantidade de transacoes dos ultimos 12 meses\n",
    "\n",
    "\n",
    "A tabela foi criada no AWS Athena junto com o S3 Bucket com uma versão dos dados disponibilizados em: https://github.com/andre-marcos-perez/ebac-course-utils/tree/main/dataset"
   ]
  }
 ],
 "metadata": {
  "kernelspec": {
   "display_name": "Python 3 (ipykernel)",
   "language": "python",
   "name": "python3"
  },
  "language_info": {
   "codemirror_mode": {
    "name": "ipython",
    "version": 3
   },
   "file_extension": ".py",
   "mimetype": "text/x-python",
   "name": "python",
   "nbconvert_exporter": "python",
   "pygments_lexer": "ipython3",
   "version": "3.10.9"
  }
 },
 "nbformat": 4,
 "nbformat_minor": 5
}
